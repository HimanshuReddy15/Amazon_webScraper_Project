{
 "cells": [
  {
   "cell_type": "code",
   "execution_count": 1,
   "id": "11c4f231-4769-4658-9697-d28957d876b6",
   "metadata": {},
   "outputs": [],
   "source": [
    "from bs4 import BeautifulSoup\n",
    "import requests\n",
    "import datetime\n",
    "import time\n",
    "import smtplib"
   ]
  },
  {
   "cell_type": "code",
   "execution_count": 61,
   "id": "d38e6cb1-370e-424b-837f-8c5a20472b92",
   "metadata": {},
   "outputs": [],
   "source": [
    "def check_price():\n",
    "    URL = 'https://www.amazon.in/Apple-iPhone-15-Pro-TB/dp/B0CHXDTGPW/ref=sr_1_2_sspa?sr=8-2-spons&sp_csd=d2lkZ2V0TmFtZT1zcF9hdGY&psc=1'\n",
    "\n",
    "    Headers = {\"User-Agent\": \"Mozilla/5.0 (Windows NT 10.0; Win64; x64) AppleWebKit/537.36 (KHTML, like Gecko) Chrome/126.0.0.0 Safari/537.36\"}\n",
    "\n",
    "    page = requests.get(URL,headers=Headers)\n",
    "\n",
    "    soup1 = BeautifulSoup(page.content,'html.parser')\n",
    "\n",
    "    soup2 = BeautifulSoup(soup1.prettify(),'html.parser')\n",
    "\n",
    "    title = soup2.find(id=\"productTitle\").text.strip()\n",
    "    price = soup2.find(class_=\"a-price-whole\").text.strip()\n",
    "    today = datetime.date.today()\n",
    "    price = price[:8]\n",
    "\n",
    "    import csv\n",
    "\n",
    "    headers = [\"Title\",\"Price\",\"Date\"]\n",
    "    data = [title,price,today]\n",
    "\n",
    "    # with open(r'C:\\Users\\91944\\OneDrive\\Desktop\\Experiment\\Amazon_WebScraper.csv','w',newline='',encoding='UTF8') as f:\n",
    "    #     writer = csv.writer(f)\n",
    "    #     writer.writerow(headers)\n",
    "    #     writer.writerow(data)\n",
    "\n",
    "    with open(r'C:\\Users\\91944\\OneDrive\\Desktop\\Experiment\\Amazon_WebScraper.csv','a+',newline='',encoding='UTF8') as f:\n",
    "        writer = csv.writer(f)\n",
    "        writer.writerow(data)\n",
    "    \n",
    "    "
   ]
  },
  {
   "cell_type": "code",
   "execution_count": null,
   "id": "9f98566a-9510-4552-80e0-1ce58ef04825",
   "metadata": {},
   "outputs": [],
   "source": [
    "while(True):\n",
    "    check_price()\n",
    "    time.sleep(86400)"
   ]
  },
  {
   "cell_type": "code",
   "execution_count": null,
   "id": "ac8125e4-8de6-48ad-b029-2abee0028912",
   "metadata": {},
   "outputs": [],
   "source": [
    "import pandas as pd\n",
    "df = pd.read_csv(r'C:\\Users\\91944\\OneDrive\\Desktop\\Experiment\\Amazon_WebScraper.csv')\n",
    "df"
   ]
  },
  {
   "cell_type": "code",
   "execution_count": null,
   "id": "7ad220d7-c37f-4fb8-8bea-d7af9370025a",
   "metadata": {},
   "outputs": [],
   "source": []
  }
 ],
 "metadata": {
  "kernelspec": {
   "display_name": "Python 3 (ipykernel)",
   "language": "python",
   "name": "python3"
  },
  "language_info": {
   "codemirror_mode": {
    "name": "ipython",
    "version": 3
   },
   "file_extension": ".py",
   "mimetype": "text/x-python",
   "name": "python",
   "nbconvert_exporter": "python",
   "pygments_lexer": "ipython3",
   "version": "3.12.4"
  }
 },
 "nbformat": 4,
 "nbformat_minor": 5
}
